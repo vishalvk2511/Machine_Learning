ax.set_xlabel("n.prod")
ax.set_ylabel("distance")
ax.set_zlabel("delTime")